{
 "cells": [
  {
   "cell_type": "markdown",
   "id": "9e4c2eb4",
   "metadata": {},
   "source": [
    "# Iris Species Classification with K-means (Clustering)"
   ]
  },
  {
   "cell_type": "markdown",
   "id": "142e39d9",
   "metadata": {},
   "source": [
    "## 1. Introduction"
   ]
  },
  {
   "cell_type": "markdown",
   "id": "5b44cebc",
   "metadata": {},
   "source": [
    "The Iris dataset was presented in 1936 in the work of R. Fisher called \"The Use of Multiple Measurements in Taxonomic Problems\". It can be downloaded from the UCI Machine Learning repository (link: <a href='https://archive.ics.uci.edu/ml/datasets/Iris'>click here</a>) where you can find , plus details about the dataset. <br>\n"
   ]
  },
  {
   "cell_type": "markdown",
   "id": "bfd07b66",
   "metadata": {},
   "source": [
    "<img src=\"files/iris01.png\" alt=\"Variedades de Iris\">"
   ]
  },
  {
   "cell_type": "markdown",
   "id": "dac83161",
   "metadata": {},
   "source": [
    "The dataset have 150 lines with 5 columns: 'sepal.lenght', 'sepal.width', petal.lenght', 'petal.width', 'variety'."
   ]
  },
  {
   "cell_type": "markdown",
   "id": "fede2af3",
   "metadata": {},
   "source": [
    "<img src=\"files/iris02.png\" alt=\"Variedades de Iris\">"
   ]
  },
  {
   "cell_type": "markdown",
   "id": "e54e3a7e",
   "metadata": {},
   "source": [
    "Images obtained from the site: \"aprendaia.com\". Link:  <a href=\"https://aprendeia.com/machine-learning-clasificador-flor-iris-python/\">click here </a>"
   ]
  },
  {
   "cell_type": "markdown",
   "id": "9311bc4f",
   "metadata": {},
   "source": [
    "In this work we try to achieve the classification of Iris varieties (5th column) from the data presented in the first 4 columns. "
   ]
  },
  {
   "cell_type": "markdown",
   "id": "434d22dd",
   "metadata": {},
   "source": [
    "## 2. Exploratory Data Analysis"
   ]
  },
  {
   "cell_type": "markdown",
   "id": "5c5c4c71",
   "metadata": {},
   "source": [
    "### 2.1. The Dataset"
   ]
  },
  {
   "cell_type": "code",
   "execution_count": 1,
   "id": "e6c790a0",
   "metadata": {},
   "outputs": [
    {
     "name": "stdout",
     "output_type": "stream",
     "text": [
      "     sepal.length  sepal.width  petal.length  petal.width    variety\n",
      "0             5.1          3.5           1.4          0.2     Setosa\n",
      "1             4.9          3.0           1.4          0.2     Setosa\n",
      "2             4.7          3.2           1.3          0.2     Setosa\n",
      "3             4.6          3.1           1.5          0.2     Setosa\n",
      "4             5.0          3.6           1.4          0.2     Setosa\n",
      "..            ...          ...           ...          ...        ...\n",
      "145           6.7          3.0           5.2          2.3  Virginica\n",
      "146           6.3          2.5           5.0          1.9  Virginica\n",
      "147           6.5          3.0           5.2          2.0  Virginica\n",
      "148           6.2          3.4           5.4          2.3  Virginica\n",
      "149           5.9          3.0           5.1          1.8  Virginica\n",
      "\n",
      "[150 rows x 5 columns]\n"
     ]
    }
   ],
   "source": [
    "# Libraries\n",
    "import sklearn\n",
    "from sklearn import datasets\n",
    "import pandas as pd\n",
    "from sklearn.cluster import KMeans\n",
    "from matplotlib import pyplot as plt\n",
    "# The Dataset from sklearn\n",
    "df = pd.read_csv('datasets/iris.csv')\n",
    "print(df)"
   ]
  },
  {
   "cell_type": "code",
   "execution_count": 2,
   "id": "ccab612f",
   "metadata": {},
   "outputs": [
    {
     "data": {
      "text/plain": [
       "(150, 5)"
      ]
     },
     "execution_count": 2,
     "metadata": {},
     "output_type": "execute_result"
    }
   ],
   "source": [
    "# Size of the Dataset:\n",
    "df.shape"
   ]
  },
  {
   "cell_type": "code",
   "execution_count": 5,
   "id": "91d21713",
   "metadata": {},
   "outputs": [
    {
     "data": {
      "text/html": [
       "<div>\n",
       "<style scoped>\n",
       "    .dataframe tbody tr th:only-of-type {\n",
       "        vertical-align: middle;\n",
       "    }\n",
       "\n",
       "    .dataframe tbody tr th {\n",
       "        vertical-align: top;\n",
       "    }\n",
       "\n",
       "    .dataframe thead th {\n",
       "        text-align: right;\n",
       "    }\n",
       "</style>\n",
       "<table border=\"1\" class=\"dataframe\">\n",
       "  <thead>\n",
       "    <tr style=\"text-align: right;\">\n",
       "      <th></th>\n",
       "      <th>sepal.length</th>\n",
       "      <th>sepal.width</th>\n",
       "      <th>petal.length</th>\n",
       "      <th>petal.width</th>\n",
       "    </tr>\n",
       "  </thead>\n",
       "  <tbody>\n",
       "    <tr>\n",
       "      <th>count</th>\n",
       "      <td>150.000000</td>\n",
       "      <td>150.000000</td>\n",
       "      <td>150.000000</td>\n",
       "      <td>150.000000</td>\n",
       "    </tr>\n",
       "    <tr>\n",
       "      <th>mean</th>\n",
       "      <td>5.843333</td>\n",
       "      <td>3.057333</td>\n",
       "      <td>3.758000</td>\n",
       "      <td>1.199333</td>\n",
       "    </tr>\n",
       "    <tr>\n",
       "      <th>std</th>\n",
       "      <td>0.828066</td>\n",
       "      <td>0.435866</td>\n",
       "      <td>1.765298</td>\n",
       "      <td>0.762238</td>\n",
       "    </tr>\n",
       "    <tr>\n",
       "      <th>min</th>\n",
       "      <td>4.300000</td>\n",
       "      <td>2.000000</td>\n",
       "      <td>1.000000</td>\n",
       "      <td>0.100000</td>\n",
       "    </tr>\n",
       "    <tr>\n",
       "      <th>25%</th>\n",
       "      <td>5.100000</td>\n",
       "      <td>2.800000</td>\n",
       "      <td>1.600000</td>\n",
       "      <td>0.300000</td>\n",
       "    </tr>\n",
       "    <tr>\n",
       "      <th>50%</th>\n",
       "      <td>5.800000</td>\n",
       "      <td>3.000000</td>\n",
       "      <td>4.350000</td>\n",
       "      <td>1.300000</td>\n",
       "    </tr>\n",
       "    <tr>\n",
       "      <th>75%</th>\n",
       "      <td>6.400000</td>\n",
       "      <td>3.300000</td>\n",
       "      <td>5.100000</td>\n",
       "      <td>1.800000</td>\n",
       "    </tr>\n",
       "    <tr>\n",
       "      <th>max</th>\n",
       "      <td>7.900000</td>\n",
       "      <td>4.400000</td>\n",
       "      <td>6.900000</td>\n",
       "      <td>2.500000</td>\n",
       "    </tr>\n",
       "  </tbody>\n",
       "</table>\n",
       "</div>"
      ],
      "text/plain": [
       "       sepal.length  sepal.width  petal.length  petal.width\n",
       "count    150.000000   150.000000    150.000000   150.000000\n",
       "mean       5.843333     3.057333      3.758000     1.199333\n",
       "std        0.828066     0.435866      1.765298     0.762238\n",
       "min        4.300000     2.000000      1.000000     0.100000\n",
       "25%        5.100000     2.800000      1.600000     0.300000\n",
       "50%        5.800000     3.000000      4.350000     1.300000\n",
       "75%        6.400000     3.300000      5.100000     1.800000\n",
       "max        7.900000     4.400000      6.900000     2.500000"
      ]
     },
     "execution_count": 5,
     "metadata": {},
     "output_type": "execute_result"
    }
   ],
   "source": [
    "df.describe()"
   ]
  },
  {
   "cell_type": "markdown",
   "id": "e0c00c18",
   "metadata": {},
   "source": [
    "### 2.2. Univariate Analysis"
   ]
  },
  {
   "cell_type": "markdown",
   "id": "4a831971",
   "metadata": {},
   "source": [
    "#### Histogram of each variable"
   ]
  },
  {
   "cell_type": "code",
   "execution_count": 6,
   "id": "da845fce",
   "metadata": {},
   "outputs": [
    {
     "data": {
      "image/png": "[encoded data removed]",
      "text/plain": [
       "<Figure size 576x576 with 4 Axes>"
      ]
     },
     "metadata": {
      "needs_background": "light"
     },
     "output_type": "display_data"
    }
   ],
   "source": [
    "df.hist(figsize=(8, 8))\n",
    "plt.show()"
   ]
  },
  {
   "cell_type": "markdown",
   "id": "50e6bdb1",
   "metadata": {},
   "source": [
    "#### Boxplot Diagrams"
   ]
  },
  {
   "cell_type": "code",
   "execution_count": 7,
   "id": "3d3ec05b",
   "metadata": {},
   "outputs": [
    {
     "data": {
      "image/png": "[encoded data removed]",
      "text/plain": [
       "<Figure size 576x576 with 4 Axes>"
      ]
     },
     "metadata": {
      "needs_background": "light"
     },
     "output_type": "display_data"
    }
   ],
   "source": [
    "df.plot(kind='box', subplots=True, layout=(2,2), sharex=False, sharey=False,\n",
    "        figsize=(8, 8))\n",
    "plt.show()"
   ]
  },
  {
   "cell_type": "markdown",
   "id": "6c2e5289",
   "metadata": {},
   "source": [
    "## 3. Clustering models with k-means"
   ]
  },
  {
   "cell_type": "markdown",
   "id": "be5e1969",
   "metadata": {},
   "source": [
    "To visualize the grouping, the results that arise from the application of k-means to pairs of variables are presented in order to obtain graphs that are easy to interpret.<br>\n",
    "To test and display the different combinations, we first present all possible pairs of combinations (in id_variable) in a list. Then the value of an iterator that points to an id_combinacion) can be varied in order to display the results for this combination."
   ]
  },
  {
   "cell_type": "code",
   "execution_count": 9,
   "id": "8a581cdc",
   "metadata": {},
   "outputs": [
    {
     "name": "stdout",
     "output_type": "stream",
     "text": [
      "Variables to analyze:  sepal.width  vs  petal.length\n"
     ]
    }
   ],
   "source": [
    "# iterator: change the value of i from 0 to 5 and execute!\n",
    "i=3 \n",
    "# combinations:\n",
    "combis=[[0,1],[0,2],[0,3],[1,2],[1,3],[2,3]]\n",
    "var1=combis[i][0] # Variable 1: x\n",
    "var2=combis[i][1] # Variable 2: y\n",
    "# Names of the variables:\n",
    "fields=df.columns.tolist() \n",
    "print('Variables to analyze: ',fields[var1],' vs ',fields[var2])\n",
    "# The data\n",
    "x = df.iloc[:, [var1,var2]].values"
   ]
  },
  {
   "cell_type": "code",
   "execution_count": 10,
   "id": "c8d61034",
   "metadata": {},
   "outputs": [
    {
     "data": {
      "text/plain": [
       "<AxesSubplot:xlabel='sepal.width', ylabel='petal.length'>"
      ]
     },
     "execution_count": 10,
     "metadata": {},
     "output_type": "execute_result"
    },
    {
     "data": {
      "image/png": "[encoded data removed]",
      "text/plain": [
       "<Figure size 432x288 with 1 Axes>"
      ]
     },
     "metadata": {
      "needs_background": "light"
     },
     "output_type": "display_data"
    }
   ],
   "source": [
    "# Scatter (Scatter Graph)\n",
    "df.plot(var1, var2,kind=\"scatter\")\n"
   ]
  },
  {
   "cell_type": "markdown",
   "id": "f1330a3f",
   "metadata": {},
   "source": [
    "### 3.1. Quantity of Groups: The Elbow Curve"
   ]
  },
  {
   "cell_type": "markdown",
   "id": "1b3a98c1",
   "metadata": {},
   "source": [
    "K-means is a highly efficient clustering algorithm. However, k-means requires that you indicate the number of clusters into which you want to group the data. <br>\n",
    "For this, there is a method called \"The curve of the elbow\": The corresponding curve (a polygonal) is drawn, and it is sought for which value the slope of the curve is 1, and it is selected."
   ]
  },
  {
   "cell_type": "code",
   "execution_count": 11,
   "id": "b8ded16d",
   "metadata": {},
   "outputs": [
    {
     "data": {
      "image/png": "[encoded data removed]",
      "text/plain": [
       "<Figure size 432x288 with 1 Axes>"
      ]
     },
     "metadata": {
      "needs_background": "light"
     },
     "output_type": "display_data"
    }
   ],
   "source": [
    "# THE ELBOW CURVE\n",
    "wcss = []\n",
    "for i in range(1,11):\n",
    "    kmeans = KMeans(n_clusters = i, init = 'k-means++', max_iter = 300, n_init = 10, random_state = 0)\n",
    "    kmeans.fit(x)\n",
    "    wcss.append(kmeans.inertia_)\n",
    "wcss_norm=[]\n",
    "for i in range(len(wcss)):\n",
    "    wcss_norm.append(float(wcss[i]/wcss[0]))\n",
    "number_of_clusters=1\n",
    "for i in range(len(wcss_norm)):\n",
    "    if(wcss_norm[i]<0.5):\n",
    "        number_of_clusters=i+1\n",
    "        break\n",
    "    else:\n",
    "        pass\n",
    "# Showing the Elbow Curve\n",
    "plt.plot(range(1, 11), wcss)\n",
    "plt.title('The method of the Elbow Curve for determining the number of clusters')\n",
    "plt.xlabel('Possible Quantity of clusters')\n",
    "plt.ylabel('WCSS') # within cluster: sum of squares\n",
    "plt.show()"
   ]
  },
  {
   "cell_type": "code",
   "execution_count": 12,
   "id": "fdba68f5",
   "metadata": {},
   "outputs": [
    {
     "name": "stdout",
     "output_type": "stream",
     "text": [
      "What do you think? Which one is the best value of \"k\" (quantity of clusters)? 2 or 3?\n"
     ]
    }
   ],
   "source": [
    "print('What do you think? Which one is the best value of \"k\" (quantity of clusters)? 2 or 3?')"
   ]
  },
  {
   "cell_type": "markdown",
   "id": "2abdb11e",
   "metadata": {},
   "source": [
    "### 3.2. Clustering"
   ]
  },
  {
   "cell_type": "markdown",
   "id": "5e39f9f8",
   "metadata": {},
   "source": [
    "Obtained the value of K, the dataset is divided into k clusters."
   ]
  },
  {
   "cell_type": "code",
   "execution_count": 13,
   "id": "bdd79a62",
   "metadata": {},
   "outputs": [
    {
     "data": {
      "image/png": "[encoded data removed]",
      "text/plain": [
       "<Figure size 432x288 with 1 Axes>"
      ]
     },
     "metadata": {
      "needs_background": "light"
     },
     "output_type": "display_data"
    }
   ],
   "source": [
    "# CLUSTERING RELATED WITH THE RESULTS OF THE ELBOW CURVE\n",
    "nb_of_clusters=3\n",
    "kmeans = KMeans(n_clusters = nb_of_clusters, init = 'k-means++', max_iter = 300, n_init = 10, random_state = 0)\n",
    "y_kmeans = kmeans.fit_predict(x)\n",
    "fig=plt.figure(figsize=(6, 4))\n",
    "plt.title('Clustering of the Dataset Iris') # title of the graph\n",
    "plt.xlabel(fields[var1]) # label x axis\n",
    "plt.ylabel(fields[var2]) # label y axis\n",
    "plt.scatter(x[y_kmeans == 0, 0], x[y_kmeans == 0, 1], s = 100, c = 'blue', label = 'Blue group')\n",
    "plt.scatter(x[y_kmeans == 1, 0], x[y_kmeans == 1, 1], s = 100, c = 'red', label = 'Red Group')\n",
    "plt.scatter(x[y_kmeans == 2, 0], x[y_kmeans == 2, 1], s = 100, c = 'green', label = 'Green Group')\n",
    "plt.scatter(kmeans.cluster_centers_[:, 0], kmeans.cluster_centers_[:,1], s = 100, c = 'black', label = None)\n",
    "plt.legend(loc='upper right') \n",
    "plt.show()"
   ]
  },
  {
   "cell_type": "markdown",
   "id": "c0ad74d8",
   "metadata": {},
   "source": [
    "But... what does this grouping mean? What relationship does it have with the species of Iris? "
   ]
  },
  {
   "cell_type": "markdown",
   "id": "1d47e920",
   "metadata": {},
   "source": [
    "## 4. Testing the clustering"
   ]
  },
  {
   "cell_type": "markdown",
   "id": "c3fcc1ff",
   "metadata": {},
   "source": [
    "The evaluation of these clusters will be carried out graphically: superposing each cluster with each one of the (labeled) varieties."
   ]
  },
  {
   "cell_type": "code",
   "execution_count": 14,
   "id": "afaa9a1a",
   "metadata": {},
   "outputs": [
    {
     "data": {
      "image/png": "[encoded data removed]",
      "text/plain": [
       "<Figure size 432x288 with 1 Axes>"
      ]
     },
     "metadata": {
      "needs_background": "light"
     },
     "output_type": "display_data"
    }
   ],
   "source": [
    "# OVERLAPING CLUSTERS WITH LABELED CASES\n",
    "# Cases: Coment out to disable the chosen variety\n",
    "#variety='Virginica'\n",
    "#variety='Versicolor'\n",
    "variety='Setosa'\n",
    "varieties=list(df.iloc[:,4])\n",
    "df2=pd.DataFrame()\n",
    "xc1=[] # columna de valores de variable x de casos\n",
    "xc2=[] # columna de valores de variable y de casos\n",
    "for i in range (len(varieties)):\n",
    "    if(varieties[i]==variety):\n",
    "        xc1.append(df.iloc[i,var1])\n",
    "        xc2.append(df.iloc[i,var2])\n",
    "    else:\n",
    "        pass\n",
    "df2[fields[var1]]=xc1\n",
    "df2[fields[var2]]=xc2\n",
    "# valores del dataset que contiene las coordenadas (x.y) de los puntos \"casos\"\n",
    "xc = df2.iloc[:, [0,1]].values\n",
    "# Graphs\n",
    "fig=plt.figure(figsize=(6, 4))\n",
    "plt.title('Clustering of the Dataset Iris - Case: '+str(variety)) # title of the graph\n",
    "plt.xlabel(fields[var1]) # label x axis\n",
    "plt.ylabel(fields[var2]) # label y axis\n",
    "plt.scatter(x[y_kmeans == 0, 0], x[y_kmeans == 0, 1], s = 100, c = 'blue', label = 'blue cluster')\n",
    "plt.scatter(x[y_kmeans == 1, 0], x[y_kmeans == 1, 1], s = 100, c = 'red', label = 'red cluster')\n",
    "plt.scatter(x[y_kmeans == 2, 0], x[y_kmeans == 2, 1], s = 100, c = 'green', label = 'green cluster')\n",
    "plt.scatter(xc[:, 0], xc[:,1], s = 90, c = 'black', label = variety)\n",
    "plt.legend(loc='upper right') \n",
    "plt.show()"
   ]
  },
  {
   "cell_type": "markdown",
   "id": "05f9c22b",
   "metadata": {},
   "source": [
    "## 5. Conclusions"
   ]
  },
  {
   "cell_type": "markdown",
   "id": "a3b6fdfa",
   "metadata": {},
   "source": [
    "Depending of the combination of variables selected from the combi, it is possible to see that the classification of the species of Iris performed by K-Means is very close to the one from the tagged data. It confirms that k-means is a very good algorithm for clustering applications."
   ]
  }
 ],
 "metadata": {
  "kernelspec": {
   "display_name": "Python 3 (ipykernel)",
   "language": "python",
   "name": "python3"
  },
  "language_info": {
   "codemirror_mode": {
    "name": "ipython",
    "version": 3
   },
   "file_extension": ".py",
   "mimetype": "text/x-python",
   "name": "python",
   "nbconvert_exporter": "python",
   "pygments_lexer": "ipython3",
   "version": "3.9.7"
  }
 },
 "nbformat": 4,
 "nbformat_minor": 5
}
