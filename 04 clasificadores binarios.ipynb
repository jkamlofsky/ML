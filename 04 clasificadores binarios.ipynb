{
 "cells": [
  {
   "cell_type": "markdown",
   "id": "019df23a",
   "metadata": {},
   "source": [
    "# Clasificadores Binarios"
   ]
  },
  {
   "cell_type": "markdown",
   "id": "363b6961",
   "metadata": {},
   "source": [
    "## Resumen"
   ]
  },
  {
   "cell_type": "markdown",
   "id": "6c8ae83a",
   "metadata": {},
   "source": [
    "En esta notebook se presentan ejemplos de funcionamiento de clasificadores binarios aplicados a la predicción del diagnóstico de una enfermedad.\n",
    "Para ello, se utilizan distintos algoritmos aplicados sobre algunos conjuntos de datos públicos, a los fines de analizar pros y contras de cada caso."
   ]
  },
  {
   "cell_type": "markdown",
   "id": "0e97ca14",
   "metadata": {},
   "source": [
    "## 1. Inicialización"
   ]
  },
  {
   "cell_type": "markdown",
   "id": "abbdd3a4",
   "metadata": {},
   "source": [
    "### Importación de Librerías"
   ]
  },
  {
   "cell_type": "code",
   "execution_count": 47,
   "id": "a9c200a3",
   "metadata": {},
   "outputs": [],
   "source": [
    "import pandas as pd\n",
    "import numpy as np\n",
    "from sklearn import linear_model\n",
    "from sklearn import model_selection\n",
    "from sklearn.metrics import classification_report\n",
    "from sklearn.metrics import confusion_matrix\n",
    "from sklearn.metrics import accuracy_score\n",
    "from sklearn.neural_network import MLPClassifier\n",
    "from sklearn import preprocessing\n",
    "import matplotlib.pyplot as plt"
   ]
  },
  {
   "cell_type": "markdown",
   "id": "29c9c119",
   "metadata": {},
   "source": [
    "### Datasets"
   ]
  },
  {
   "cell_type": "code",
   "execution_count": 48,
   "id": "e31d712b",
   "metadata": {},
   "outputs": [],
   "source": [
    "# Para elegir el Dataset, comentar el que no desea utilizar:\n",
    "archivo='diabetes.csv';target='Outcome';LABELS=('NEG','POS')\n",
    "#archivo='breast_cancer.csv';target='target';LABELS=('NEG','POS')\n",
    "df = pd.read_csv(archivo)"
   ]
  },
  {
   "cell_type": "code",
   "execution_count": 49,
   "id": "f45cc3d2",
   "metadata": {},
   "outputs": [
    {
     "name": "stdout",
     "output_type": "stream",
     "text": [
      "Encabezado: primeras 5 filas\n",
      "   Pregnancies  Glucose  BloodPressure  SkinThickness  Insulin   BMI  \\\n",
      "0            6      148             72             35        0  33.6   \n",
      "1            1       85             66             29        0  26.6   \n",
      "2            8      183             64              0        0  23.3   \n",
      "3            1       89             66             23       94  28.1   \n",
      "4            0      137             40             35      168  43.1   \n",
      "\n",
      "   DiabetesPedigreeFunction  Age  Outcome  \n",
      "0                     0.627   50        1  \n",
      "1                     0.351   31        0  \n",
      "2                     0.672   32        1  \n",
      "3                     0.167   21        0  \n",
      "4                     2.288   33        1  \n",
      "Shape: Filas y Columnas de la Matriz (768, 9)\n",
      "Dataset balanceado: NO\n",
      "Dataset normalizado: NO\n",
      "Dataset:   diabetes.csv  Registros:  768  Balanceado= NO  Normalizado= NO\n"
     ]
    }
   ],
   "source": [
    "# Visualizacion:\n",
    "general=df.head()\n",
    "print('Encabezado: primeras 5 filas\\n'+str(general))\n",
    "# cuantas filas y columnas tiene el df\n",
    "forma=df.shape\n",
    "print('Shape: Filas y Columnas de la Matriz '+str(forma))\n",
    "# La ocurrencia de casos positivos y no positivos\n",
    "participacion=pd.value_counts(df[target], sort = True)\n",
    "vectorParticipacion=(participacion[0],participacion[1])\n",
    "proporcion=(100*participacion[1])/(participacion[0]+participacion[1])\n",
    "if(proporcion>35 and proporcion<65):\n",
    "    balanceado='SI'\n",
    "else:\n",
    "    balanceado='NO'\n",
    "print('Dataset balanceado: '+str(balanceado))\n",
    "normalizado='SI'\n",
    "for i in range(df.shape[1]):\n",
    "    for j in range(df.shape[0]):\n",
    "        if(df.iloc[i,j]>1):\n",
    "            normalizado='NO'\n",
    "            break\n",
    "print('Dataset normalizado: '+str(normalizado))\n",
    "print('Dataset:  ',archivo,' Registros: ',len(df),' Balanceado=',balanceado,' Normalizado=',normalizado)"
   ]
  },
  {
   "cell_type": "code",
   "execution_count": 50,
   "id": "86c757e7",
   "metadata": {},
   "outputs": [
    {
     "name": "stderr",
     "output_type": "stream",
     "text": [
      "/tmp/ipykernel_9118/4082488391.py:1: FutureWarning: In a future version of pandas all arguments of DataFrame.drop except for the argument 'labels' will be keyword-only\n",
      "  df.drop([target],1).hist()\n"
     ]
    },
    {
     "data": {
      "image/png": "[encoded data removed]",
      "text/plain": [
       "<Figure size 432x288 with 9 Axes>"
      ]
     },
     "metadata": {
      "needs_background": "light"
     },
     "output_type": "display_data"
    }
   ],
   "source": [
    "df.drop([target],1).hist()\n",
    "plt.show()"
   ]
  },
  {
   "cell_type": "code",
   "execution_count": 51,
   "id": "a22be6e4",
   "metadata": {},
   "outputs": [
    {
     "data": {
      "text/plain": [
       "Text(0, 0.5, 'Cantidad de Observaciones')"
      ]
     },
     "execution_count": 51,
     "metadata": {},
     "output_type": "execute_result"
    },
    {
     "data": {
      "image/png": "[encoded data removed]",
      "text/plain": [
       "<Figure size 432x288 with 1 Axes>"
      ]
     },
     "metadata": {
      "needs_background": "light"
     },
     "output_type": "display_data"
    }
   ],
   "source": [
    "# Grafico:\n",
    "count_classes = pd.value_counts(df[target], sort = True)\n",
    "count_classes.plot(kind = 'bar', rot=0)\n",
    "plt.xticks(range(2), LABELS)\n",
    "plt.title(\"Frequencia de Diagnosticos por cantidad de Observaciones\")\n",
    "plt.xlabel(target)\n",
    "plt.ylabel(\"Cantidad de Observaciones\")\n"
   ]
  },
  {
   "cell_type": "markdown",
   "id": "7ee05815",
   "metadata": {},
   "source": [
    "## 2. Pre-Procesamiento"
   ]
  },
  {
   "cell_type": "code",
   "execution_count": 52,
   "id": "2dc9e67f",
   "metadata": {},
   "outputs": [
    {
     "name": "stderr",
     "output_type": "stream",
     "text": [
      "/tmp/ipykernel_9118/409321591.py:1: FutureWarning: In a future version of pandas all arguments of DataFrame.drop except for the argument 'labels' will be keyword-only\n",
      "  X = np.array(df.drop([target],1))\n"
     ]
    }
   ],
   "source": [
    "X = np.array(df.drop([target],1))\n",
    "y = np.array(df[target])\n",
    "# Normalizacion:\n",
    "X_Norm=preprocessing.scale(X)\n",
    "if(normalizado=='NO'):\n",
    "    X=X_Norm\n",
    "# Manejo de balanceo de datos\n",
    "balancear=None\n",
    "if(balanceado=='NO'):\n",
    "    balancear='balanced'\n",
    "# Split del Dataset en Train / Test \n",
    "validation_size = 0.20\n",
    "seed = 7\n",
    "X_train, X_test, Y_train, Y_test = model_selection.train_test_split(X, y, test_size=validation_size, random_state=seed)"
   ]
  },
  {
   "cell_type": "markdown",
   "id": "69e96bd3",
   "metadata": {},
   "source": [
    "## 3. Entrenamiento y Evaluación de Modelos"
   ]
  },
  {
   "cell_type": "markdown",
   "id": "aa94f8e3",
   "metadata": {},
   "source": [
    "### 3.1. Regresión Logística:"
   ]
  },
  {
   "cell_type": "markdown",
   "id": "6357144a",
   "metadata": {},
   "source": [
    "#### Entrenamiento"
   ]
  },
  {
   "cell_type": "code",
   "execution_count": 53,
   "id": "510f720d",
   "metadata": {},
   "outputs": [
    {
     "data": {
      "text/plain": [
       "LogisticRegression(class_weight='balanced')"
      ]
     },
     "execution_count": 53,
     "metadata": {},
     "output_type": "execute_result"
    }
   ],
   "source": [
    "modelo = linear_model.LogisticRegression(class_weight=balancear)\n",
    "modelo.fit(X_train,Y_train)"
   ]
  },
  {
   "cell_type": "markdown",
   "id": "3ff8be84",
   "metadata": {},
   "source": [
    "#### Evaluación"
   ]
  },
  {
   "cell_type": "code",
   "execution_count": 54,
   "id": "1e2968b0",
   "metadata": {},
   "outputs": [
    {
     "name": "stdout",
     "output_type": "stream",
     "text": [
      "\n",
      "Reporte de las Clasificaciones\n",
      "               precision    recall  f1-score   support\n",
      "\n",
      "           0       0.86      0.80      0.83        97\n",
      "           1       0.70      0.77      0.73        57\n",
      "\n",
      "    accuracy                           0.79       154\n",
      "   macro avg       0.78      0.79      0.78       154\n",
      "weighted avg       0.80      0.79      0.79       154\n",
      "\n"
     ]
    }
   ],
   "source": [
    "modelo.score(X_test,Y_test)\n",
    "predictions = modelo.predict(X_test)\n",
    "print('\\nReporte de las Clasificaciones\\n',classification_report(Y_test, predictions))"
   ]
  },
  {
   "cell_type": "markdown",
   "id": "a967cdcb",
   "metadata": {},
   "source": [
    "### 3.2. Red Neuronal"
   ]
  },
  {
   "cell_type": "markdown",
   "id": "db33d094",
   "metadata": {},
   "source": [
    "#### Entrenamiento"
   ]
  },
  {
   "cell_type": "code",
   "execution_count": 55,
   "id": "e346459d",
   "metadata": {},
   "outputs": [
    {
     "name": "stderr",
     "output_type": "stream",
     "text": [
      "/home/jorgek/anaconda3/lib/python3.9/site-packages/sklearn/neural_network/_multilayer_perceptron.py:692: ConvergenceWarning: Stochastic Optimizer: Maximum iterations (200) reached and the optimization hasn't converged yet.\n",
      "  warnings.warn(\n"
     ]
    },
    {
     "data": {
      "text/plain": [
       "MLPClassifier(alpha=0.1, batch_size=20, hidden_layer_sizes=20)"
      ]
     },
     "execution_count": 55,
     "metadata": {},
     "output_type": "execute_result"
    }
   ],
   "source": [
    "model = MLPClassifier()\n",
    "params1={'activation': 'tanh', 'alpha': 0.1, 'batch_size': 5, 'hidden_layer_sizes': 10, 'max_iter': 200}\n",
    "params2={'activation': 'relu', 'alpha': 0.1, 'batch_size': 20, 'hidden_layer_sizes': 20, 'max_iter': 200}\n",
    "params=params2\n",
    "model.set_params(**params)\n",
    "model.fit(X_train, Y_train)"
   ]
  },
  {
   "cell_type": "markdown",
   "id": "4accde9b",
   "metadata": {},
   "source": [
    "#### Evaluación"
   ]
  },
  {
   "cell_type": "code",
   "execution_count": 56,
   "id": "f151fea2",
   "metadata": {},
   "outputs": [
    {
     "name": "stdout",
     "output_type": "stream",
     "text": [
      "Reporte de las Clasificaciones:\n",
      "              precision    recall  f1-score   support\n",
      "\n",
      "           0       0.80      0.89      0.84        97\n",
      "           1       0.77      0.63      0.69        57\n",
      "\n",
      "    accuracy                           0.79       154\n",
      "   macro avg       0.78      0.76      0.77       154\n",
      "weighted avg       0.79      0.79      0.79       154\n",
      "\n"
     ]
    }
   ],
   "source": [
    "predicciones=model.predict(X_test)\n",
    "print('Reporte de las Clasificaciones:')\n",
    "print(classification_report(Y_test, predicciones))\n",
    "matrizConfusion=confusion_matrix(Y_test, predicciones)"
   ]
  }
 ],
 "metadata": {
  "kernelspec": {
   "display_name": "Python 3 (ipykernel)",
   "language": "python",
   "name": "python3"
  },
  "language_info": {
   "codemirror_mode": {
    "name": "ipython",
    "version": 3
   },
   "file_extension": ".py",
   "mimetype": "text/x-python",
   "name": "python",
   "nbconvert_exporter": "python",
   "pygments_lexer": "ipython3",
   "version": "3.9.7"
  }
 },
 "nbformat": 4,
 "nbformat_minor": 5
}
