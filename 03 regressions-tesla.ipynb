{
 "cells": [
  {
   "cell_type": "markdown",
   "id": "41d3d48b",
   "metadata": {},
   "source": [
    "# Regresion Models: Prediction of the value of Tesla's stock"
   ]
  },
  {
   "cell_type": "markdown",
   "id": "4f95381b",
   "metadata": {},
   "source": [
    "## Abstract"
   ]
  },
  {
   "cell_type": "markdown",
   "id": "50ceeae9",
   "metadata": {},
   "source": [
    "Starting with a data set containing close to a year of historical data related to Tesla's stock movements, in this notebook we will attempt to predict the next five days' worth of this stock. The dataset was downloaded from the Yahoo! Finance (for historical Tesla data: <a href='https://es.finance.yahoo.com/quote/TSLA/history?p=TSLA'>click here</a>).<br>\n",
    "Different prediction models were used: simple linear model, simple polynomial model and multiple linear model. All models come with indicators like R2 and RMSE."
   ]
  },
  {
   "cell_type": "markdown",
   "id": "8fb9ed14",
   "metadata": {},
   "source": [
    "## 1. Exploratory Data Analysis"
   ]
  },
  {
   "cell_type": "markdown",
   "id": "00b0d4f4",
   "metadata": {},
   "source": [
    "### 1.1. Getting the Dataset"
   ]
  },
  {
   "cell_type": "markdown",
   "id": "4808a1ca",
   "metadata": {},
   "source": [
    "#### Libreries"
   ]
  },
  {
   "cell_type": "code",
   "execution_count": 1,
   "id": "265913e8",
   "metadata": {},
   "outputs": [],
   "source": [
    "import numpy as np\n",
    "import pandas as pd\n",
    "from matplotlib import pyplot as plt\n",
    "from sklearn.metrics import mean_squared_error, r2_score\n",
    "from sklearn.linear_model import LinearRegression\n",
    "from sklearn.preprocessing import PolynomialFeatures\n",
    "from math import sqrt"
   ]
  },
  {
   "cell_type": "markdown",
   "id": "449a5069",
   "metadata": {},
   "source": [
    "#### The dataset"
   ]
  },
  {
   "cell_type": "code",
   "execution_count": 3,
   "id": "d7499986",
   "metadata": {},
   "outputs": [],
   "source": [
    "# The complete dataset\n",
    "data=pd.read_csv('datasets/TSLA.csv')\n",
    "# Drop of columns: 'Date' y 'Adj Close'\n",
    "ds=data.drop(['Adj Close'], axis=1)\n",
    "# Number of days of prediction\n",
    "periodos=5\n",
    "# Global Dataset train and test\n",
    "dsTrain=ds.iloc[:(len(ds)-periodos),:]\n",
    "dsTest=ds.iloc[(len(ds)-periodos):,:]\n",
    "# Simple Data Train: For linear and Polynomial models\n",
    "dsTrainS=dsTrain.drop(['Open','High','Low','Volume'], axis=1)\n",
    "# Simple Data Test:\n",
    "dsTestS=dsTest.drop(['Open','High','Low','Volume'], axis=1)"
   ]
  },
  {
   "cell_type": "markdown",
   "id": "466f02ea",
   "metadata": {},
   "source": [
    "### 1.2. Univariate Analysis"
   ]
  },
  {
   "cell_type": "code",
   "execution_count": 7,
   "id": "672df446",
   "metadata": {},
   "outputs": [
    {
     "data": {
      "text/html": [
       "<div>\n",
       "<style scoped>\n",
       "    .dataframe tbody tr th:only-of-type {\n",
       "        vertical-align: middle;\n",
       "    }\n",
       "\n",
       "    .dataframe tbody tr th {\n",
       "        vertical-align: top;\n",
       "    }\n",
       "\n",
       "    .dataframe thead th {\n",
       "        text-align: right;\n",
       "    }\n",
       "</style>\n",
       "<table border=\"1\" class=\"dataframe\">\n",
       "  <thead>\n",
       "    <tr style=\"text-align: right;\">\n",
       "      <th></th>\n",
       "      <th>Date</th>\n",
       "      <th>Open</th>\n",
       "      <th>High</th>\n",
       "      <th>Low</th>\n",
       "      <th>Close</th>\n",
       "      <th>Adj Close</th>\n",
       "      <th>Volume</th>\n",
       "    </tr>\n",
       "  </thead>\n",
       "  <tbody>\n",
       "    <tr>\n",
       "      <th>0</th>\n",
       "      <td>2021-03-15</td>\n",
       "      <td>694.090027</td>\n",
       "      <td>713.179993</td>\n",
       "      <td>684.039978</td>\n",
       "      <td>707.940002</td>\n",
       "      <td>707.940002</td>\n",
       "      <td>29335600</td>\n",
       "    </tr>\n",
       "    <tr>\n",
       "      <th>1</th>\n",
       "      <td>2021-03-16</td>\n",
       "      <td>703.349976</td>\n",
       "      <td>707.919983</td>\n",
       "      <td>671.000000</td>\n",
       "      <td>676.880005</td>\n",
       "      <td>676.880005</td>\n",
       "      <td>32195700</td>\n",
       "    </tr>\n",
       "    <tr>\n",
       "      <th>2</th>\n",
       "      <td>2021-03-17</td>\n",
       "      <td>656.869995</td>\n",
       "      <td>703.729980</td>\n",
       "      <td>651.010010</td>\n",
       "      <td>701.809998</td>\n",
       "      <td>701.809998</td>\n",
       "      <td>40372500</td>\n",
       "    </tr>\n",
       "    <tr>\n",
       "      <th>3</th>\n",
       "      <td>2021-03-18</td>\n",
       "      <td>684.289978</td>\n",
       "      <td>689.229980</td>\n",
       "      <td>652.000000</td>\n",
       "      <td>653.159973</td>\n",
       "      <td>653.159973</td>\n",
       "      <td>33224800</td>\n",
       "    </tr>\n",
       "    <tr>\n",
       "      <th>4</th>\n",
       "      <td>2021-03-19</td>\n",
       "      <td>646.599976</td>\n",
       "      <td>657.229980</td>\n",
       "      <td>624.619995</td>\n",
       "      <td>654.869995</td>\n",
       "      <td>654.869995</td>\n",
       "      <td>42894000</td>\n",
       "    </tr>\n",
       "    <tr>\n",
       "      <th>...</th>\n",
       "      <td>...</td>\n",
       "      <td>...</td>\n",
       "      <td>...</td>\n",
       "      <td>...</td>\n",
       "      <td>...</td>\n",
       "      <td>...</td>\n",
       "      <td>...</td>\n",
       "    </tr>\n",
       "    <tr>\n",
       "      <th>248</th>\n",
       "      <td>2022-03-08</td>\n",
       "      <td>795.530029</td>\n",
       "      <td>849.989990</td>\n",
       "      <td>782.169983</td>\n",
       "      <td>824.400024</td>\n",
       "      <td>824.400024</td>\n",
       "      <td>26799700</td>\n",
       "    </tr>\n",
       "    <tr>\n",
       "      <th>249</th>\n",
       "      <td>2022-03-09</td>\n",
       "      <td>839.479980</td>\n",
       "      <td>860.559998</td>\n",
       "      <td>832.010010</td>\n",
       "      <td>858.969971</td>\n",
       "      <td>858.969971</td>\n",
       "      <td>19728000</td>\n",
       "    </tr>\n",
       "    <tr>\n",
       "      <th>250</th>\n",
       "      <td>2022-03-10</td>\n",
       "      <td>851.450012</td>\n",
       "      <td>854.450012</td>\n",
       "      <td>810.359985</td>\n",
       "      <td>838.299988</td>\n",
       "      <td>838.299988</td>\n",
       "      <td>19549500</td>\n",
       "    </tr>\n",
       "    <tr>\n",
       "      <th>251</th>\n",
       "      <td>2022-03-11</td>\n",
       "      <td>840.200012</td>\n",
       "      <td>843.799988</td>\n",
       "      <td>793.770020</td>\n",
       "      <td>795.349976</td>\n",
       "      <td>795.349976</td>\n",
       "      <td>22272800</td>\n",
       "    </tr>\n",
       "    <tr>\n",
       "      <th>252</th>\n",
       "      <td>2022-03-14</td>\n",
       "      <td>780.609985</td>\n",
       "      <td>800.699890</td>\n",
       "      <td>756.344971</td>\n",
       "      <td>783.020020</td>\n",
       "      <td>783.020020</td>\n",
       "      <td>8910193</td>\n",
       "    </tr>\n",
       "  </tbody>\n",
       "</table>\n",
       "<p>253 rows × 7 columns</p>\n",
       "</div>"
      ],
      "text/plain": [
       "           Date        Open        High         Low       Close   Adj Close  \\\n",
       "0    2021-03-15  694.090027  713.179993  684.039978  707.940002  707.940002   \n",
       "1    2021-03-16  703.349976  707.919983  671.000000  676.880005  676.880005   \n",
       "2    2021-03-17  656.869995  703.729980  651.010010  701.809998  701.809998   \n",
       "3    2021-03-18  684.289978  689.229980  652.000000  653.159973  653.159973   \n",
       "4    2021-03-19  646.599976  657.229980  624.619995  654.869995  654.869995   \n",
       "..          ...         ...         ...         ...         ...         ...   \n",
       "248  2022-03-08  795.530029  849.989990  782.169983  824.400024  824.400024   \n",
       "249  2022-03-09  839.479980  860.559998  832.010010  858.969971  858.969971   \n",
       "250  2022-03-10  851.450012  854.450012  810.359985  838.299988  838.299988   \n",
       "251  2022-03-11  840.200012  843.799988  793.770020  795.349976  795.349976   \n",
       "252  2022-03-14  780.609985  800.699890  756.344971  783.020020  783.020020   \n",
       "\n",
       "       Volume  \n",
       "0    29335600  \n",
       "1    32195700  \n",
       "2    40372500  \n",
       "3    33224800  \n",
       "4    42894000  \n",
       "..        ...  \n",
       "248  26799700  \n",
       "249  19728000  \n",
       "250  19549500  \n",
       "251  22272800  \n",
       "252   8910193  \n",
       "\n",
       "[253 rows x 7 columns]"
      ]
     },
     "execution_count": 7,
     "metadata": {},
     "output_type": "execute_result"
    }
   ],
   "source": [
    "data"
   ]
  },
  {
   "cell_type": "code",
   "execution_count": 4,
   "id": "dad391cb",
   "metadata": {},
   "outputs": [
    {
     "data": {
      "image/png": "[encoded data removed]",
      "text/plain": [
       "<Figure size 432x288 with 6 Axes>"
      ]
     },
     "metadata": {
      "needs_background": "light"
     },
     "output_type": "display_data"
    }
   ],
   "source": [
    "# Hystograms of independent variables\n",
    "ds.hist()\n",
    "plt.show()"
   ]
  },
  {
   "cell_type": "code",
   "execution_count": 5,
   "id": "26a61205",
   "metadata": {},
   "outputs": [
    {
     "data": {
      "image/png": "[encoded data removed]",
      "text/plain": [
       "<Figure size 432x288 with 6 Axes>"
      ]
     },
     "metadata": {
      "needs_background": "light"
     },
     "output_type": "display_data"
    }
   ],
   "source": [
    "ds.plot(kind='box', subplots=True, layout=(2,3), sharex=False, sharey=False)\n",
    "plt.show()"
   ]
  },
  {
   "cell_type": "markdown",
   "id": "01944927",
   "metadata": {},
   "source": [
    "Note than there are a couple of abnormal data shown in the graphic of Volume (small circles)"
   ]
  },
  {
   "cell_type": "code",
   "execution_count": 6,
   "id": "aac576e1",
   "metadata": {},
   "outputs": [
    {
     "name": "stdout",
     "output_type": "stream",
     "text": [
      "            Open      High       Low     Close    Volume\n",
      "Open    1.000000  0.995803  0.993779  0.987110  0.107676\n",
      "High    0.995803  1.000000  0.994400  0.994272  0.147882\n",
      "Low     0.993779  0.994400  1.000000  0.995196  0.073231\n",
      "Close   0.987110  0.994272  0.995196  1.000000  0.116150\n",
      "Volume  0.107676  0.147882  0.073231  0.116150  1.000000\n"
     ]
    },
    {
     "data": {
      "image/png": "[encoded data removed]",
      "text/plain": [
       "<Figure size 432x288 with 2 Axes>"
      ]
     },
     "metadata": {
      "needs_background": "light"
     },
     "output_type": "display_data"
    }
   ],
   "source": [
    "# Correlation Matrix\n",
    "import seaborn as sns\n",
    "correlacion=ds.corr()\n",
    "print(correlacion)\n",
    "sns.heatmap(correlacion)\n",
    "plt.show()"
   ]
  },
  {
   "cell_type": "markdown",
   "id": "0e670662",
   "metadata": {},
   "source": [
    "## 2. Regresion Models"
   ]
  },
  {
   "cell_type": "markdown",
   "id": "b9912d3a",
   "metadata": {},
   "source": [
    "The variable to predict is the stock's closing value. For each model, the following will be carried out: training (and graphs as far as possible), obtaining metrics and predicting the value of the action for the following days. The result of the predictions is compared with the actual results in order to understand the quality of the predictions."
   ]
  },
  {
   "cell_type": "markdown",
   "id": "6da40d5b",
   "metadata": {},
   "source": [
    "### 2.1. Simple Linear Regresion Model"
   ]
  },
  {
   "cell_type": "code",
   "execution_count": 8,
   "id": "2d32fe76",
   "metadata": {},
   "outputs": [
    {
     "data": {
      "text/plain": [
       "LinearRegression()"
      ]
     },
     "execution_count": 8,
     "metadata": {},
     "output_type": "execute_result"
    }
   ],
   "source": [
    "x=np.array([])\n",
    "y=np.array([])\n",
    "for i in range(len(dsTrainS)):\n",
    "    x=np.append(x,i)\n",
    "    y=np.append(y,dsTrainS.iloc[i,1])\n",
    "# Training:\n",
    "modelo = LinearRegression() # instanco of LinearRegression\n",
    "modelo.fit(x.reshape(-1,1), y.reshape(-1,1))"
   ]
  },
  {
   "cell_type": "markdown",
   "id": "de9887eb",
   "metadata": {},
   "source": [
    "#### Graphics of the Model"
   ]
  },
  {
   "cell_type": "code",
   "execution_count": 9,
   "id": "12a64f5c",
   "metadata": {},
   "outputs": [
    {
     "data": {
      "image/png": "[encoded data removed]",
      "text/plain": [
       "<Figure size 648x432 with 1 Axes>"
      ]
     },
     "metadata": {
      "needs_background": "light"
     },
     "output_type": "display_data"
    }
   ],
   "source": [
    "def graficar(df):\n",
    "    campos=df.columns.tolist()\n",
    "    x=np.array([])\n",
    "    y=np.array([])\n",
    "    for i in range(len(df)):\n",
    "        x=np.append(x,i)\n",
    "        y=np.append(y,df.iloc[i,1])\n",
    "    modelo = LinearRegression() \n",
    "    modelo.fit(x.reshape(-1,1), y.reshape(-1,1))\n",
    "    y_pred=np.array([])\n",
    "    y_pred=np.append(y_pred,modelo.predict(x.reshape(-1,1)))                        \n",
    "    plt.figure(figsize=(9,6))\n",
    "    plt.plot(x, y_pred, label=\"Simple Linear Model\",color = \"red\")\n",
    "    plt.scatter(x,y,label='datos', color='blue')\n",
    "    plt.title(\"Tesla's Stoc: Close value prediction\")\n",
    "    plt.xlabel('Day')\n",
    "    plt.ylabel(campos[1])\n",
    "    return\n",
    "graficar(dsTrainS)"
   ]
  },
  {
   "cell_type": "markdown",
   "id": "4c6a4831",
   "metadata": {},
   "source": [
    "#### Formula & Metrics:"
   ]
  },
  {
   "cell_type": "code",
   "execution_count": 11,
   "id": "e06c1a4a",
   "metadata": {},
   "outputs": [
    {
     "name": "stdout",
     "output_type": "stream",
     "text": [
      "Fórmula:  y = 1.835x + 580.94\n",
      "Evaluación:\n",
      "R2= 0.5713974508525748\n",
      "RMSE= 220.07654723628073\n"
     ]
    }
   ],
   "source": [
    "# Formula: y = mx + b\n",
    "m=round(modelo.coef_[0][0],3)\n",
    "b=round(modelo.intercept_[0],2)\n",
    "formula='y = '+str(m)+'x + '+str(b)\n",
    "print('Formula: ',formula)    \n",
    "# Testing of the model:\n",
    "print('Testing:')\n",
    "x=np.array([])\n",
    "y=np.array([])\n",
    "for i in range(len(dsTrainS)):\n",
    "    x=np.append(x,i)\n",
    "    y=np.append(y,dsTrainS.iloc[i,1])\n",
    "y_pred=np.array([])\n",
    "y_pred=np.append(y_pred.reshape(-1,1),modelo.predict(x.reshape(-1,1)))                        \n",
    "r2=r2_score(y.reshape(-1,1),y_pred.reshape(-1,1))\n",
    "print('R2=',r2)\n",
    "# RMSE\n",
    "xPlus=np.array([])\n",
    "yPlus=np.array([])\n",
    "for i in range(len(dsTest)):\n",
    "    xPlus=np.append(xPlus,i+len(dsTrain))\n",
    "    yPlus=np.append(yPlus,dsTest.iloc[i,1])\n",
    "y_predPlus=np.array([])\n",
    "y_predPlus=np.append(y_predPlus,modelo.predict(xPlus.reshape(-1,1)))                        \n",
    "RMSE=sqrt(mean_squared_error(yPlus, y_predPlus))\n",
    "print('RMSE=',RMSE)"
   ]
  },
  {
   "cell_type": "markdown",
   "id": "6745ddbb",
   "metadata": {},
   "source": [
    "#### Predictions"
   ]
  },
  {
   "cell_type": "markdown",
   "id": "17394e80",
   "metadata": {},
   "source": [
    "Historic data is painted in grey, Real \"future\" data in blue, and in red: the predictions."
   ]
  },
  {
   "cell_type": "code",
   "execution_count": 12,
   "id": "60fdffde",
   "metadata": {},
   "outputs": [
    {
     "data": {
      "image/png": "[encoded data removed]",
      "text/plain": [
       "<Figure size 648x432 with 1 Axes>"
      ]
     },
     "metadata": {
      "needs_background": "light"
     },
     "output_type": "display_data"
    }
   ],
   "source": [
    "def graphicPrediction(dsTrain,dsTest):\n",
    "    campos=dsTrain.columns.tolist()\n",
    "    x=np.array([])\n",
    "    y=np.array([])\n",
    "    xPlus=np.array([])\n",
    "    yPlus=np.array([])\n",
    "    for i in range(len(dsTrain)):\n",
    "        x=np.append(x,i)\n",
    "        y=np.append(y,dsTrain.iloc[i,1])\n",
    "    for i in range(len(dsTest)):\n",
    "        xPlus=np.append(xPlus,i+len(dsTrain))\n",
    "        yPlus=np.append(yPlus,dsTest.iloc[i,1])\n",
    "    modelo = LinearRegression() \n",
    "    modelo.fit(x.reshape(-1,1), y.reshape(-1,1))\n",
    "    y_pred=np.array([])\n",
    "    y_predPlus=np.array([])\n",
    "    y_pred=np.append(y_pred,modelo.predict(x.reshape(-1,1)))                        \n",
    "    y_predPlus=np.append(y_predPlus,modelo.predict(xPlus.reshape(-1,1)))                        \n",
    "    plt.figure(figsize=(9,6))\n",
    "    plt.plot(x, y_pred, label=\"Simple Linear Model\",color = \"red\")\n",
    "    plt.scatter(x,y,label='Train data', color='grey')\n",
    "    plt.scatter(xPlus, y_predPlus, label=\"Predictions\",color = \"red\")\n",
    "    plt.scatter(xPlus,yPlus,label='Test data', color='blue')\n",
    "    plt.title(\"Tesla's Stoc: Close value prediction\")\n",
    "    plt.xlabel('Day')\n",
    "    plt.ylabel(campos[1])\n",
    "    return\n",
    "graphicPrediction(dsTrainS,dsTest)"
   ]
  },
  {
   "cell_type": "markdown",
   "id": "783cbb69",
   "metadata": {},
   "source": [
    "### 2.2. Simple Polynomial Regression Model"
   ]
  },
  {
   "cell_type": "markdown",
   "id": "6b1315b3",
   "metadata": {},
   "source": [
    "Simple polynomial Regresion Models are polynomic functions (just in one variable) with degree > 1. We will fit the model with Training data. A graph (describing data and the model) is presented."
   ]
  },
  {
   "cell_type": "code",
   "execution_count": 3,
   "id": "38b23dbb",
   "metadata": {},
   "outputs": [
    {
     "name": "stdout",
     "output_type": "stream",
     "text": [
      "Polynomial approximation of degree:  3\n"
     ]
    },
    {
     "ename": "NameError",
     "evalue": "name 'PolynomialFeatures' is not defined",
     "output_type": "error",
     "traceback": [
      "\u001b[0;31m---------------------------------------------------------------------------\u001b[0m",
      "\u001b[0;31mNameError\u001b[0m                                 Traceback (most recent call last)",
      "\u001b[0;32m/tmp/ipykernel_9539/1050225684.py\u001b[0m in \u001b[0;36m<module>\u001b[0;34m\u001b[0m\n\u001b[1;32m      1\u001b[0m \u001b[0mgrado\u001b[0m\u001b[0;34m=\u001b[0m\u001b[0;36m3\u001b[0m\u001b[0;34m\u001b[0m\u001b[0;34m\u001b[0m\u001b[0m\n\u001b[1;32m      2\u001b[0m \u001b[0mprint\u001b[0m\u001b[0;34m(\u001b[0m\u001b[0;34m'Polynomial approximation of degree: '\u001b[0m\u001b[0;34m,\u001b[0m\u001b[0mgrado\u001b[0m\u001b[0;34m)\u001b[0m\u001b[0;34m\u001b[0m\u001b[0;34m\u001b[0m\u001b[0m\n\u001b[0;32m----> 3\u001b[0;31m \u001b[0mpoli\u001b[0m \u001b[0;34m=\u001b[0m \u001b[0mPolynomialFeatures\u001b[0m\u001b[0;34m(\u001b[0m\u001b[0mdegree\u001b[0m\u001b[0;34m=\u001b[0m\u001b[0mgrado\u001b[0m\u001b[0;34m,\u001b[0m \u001b[0minclude_bias\u001b[0m\u001b[0;34m=\u001b[0m\u001b[0;32mFalse\u001b[0m\u001b[0;34m)\u001b[0m\u001b[0;34m\u001b[0m\u001b[0;34m\u001b[0m\u001b[0m\n\u001b[0m\u001b[1;32m      4\u001b[0m \u001b[0mx_poli\u001b[0m \u001b[0;34m=\u001b[0m \u001b[0mpoli\u001b[0m\u001b[0;34m.\u001b[0m\u001b[0mfit_transform\u001b[0m\u001b[0;34m(\u001b[0m\u001b[0mx\u001b[0m\u001b[0;34m.\u001b[0m\u001b[0mreshape\u001b[0m\u001b[0;34m(\u001b[0m\u001b[0;34m-\u001b[0m\u001b[0;36m1\u001b[0m\u001b[0;34m,\u001b[0m\u001b[0;36m1\u001b[0m\u001b[0;34m)\u001b[0m\u001b[0;34m)\u001b[0m\u001b[0;34m\u001b[0m\u001b[0;34m\u001b[0m\u001b[0m\n\u001b[1;32m      5\u001b[0m \u001b[0mmodelo\u001b[0m \u001b[0;34m=\u001b[0m \u001b[0mLinearRegression\u001b[0m\u001b[0;34m(\u001b[0m\u001b[0;34m)\u001b[0m\u001b[0;34m\u001b[0m\u001b[0;34m\u001b[0m\u001b[0m\n",
      "\u001b[0;31mNameError\u001b[0m: name 'PolynomialFeatures' is not defined"
     ]
    }
   ],
   "source": [
    "grado=3\n",
    "print('Polynomial approximation of degree: ',grado)\n",
    "poli = PolynomialFeatures(degree=grado, include_bias=False)\n",
    "x_poli = poli.fit_transform(x.reshape(-1,1))\n",
    "modelo = LinearRegression()\n",
    "modelo.fit(x_poli, y.reshape(-1,1))\n",
    "# Formula: y = a + b1x1 + b2x2 + ... + bnxn\n",
    "x=np.array([])\n",
    "y=np.array([])\n",
    "for i in range(len(dsTrain)):\n",
    "    x=np.append(x,i)\n",
    "    y=np.append(y,dsTrain.iloc[i,1])\n",
    "m=(modelo.coef_[0])\n",
    "b=round(modelo.intercept_[0],2)\n",
    "formula='y='+str(b)\n",
    "for i in range(len(m)):\n",
    "    formula=str(formula)+'+'+str(round(m[i],3))+'*x(exp '+str(i+1)+')'\n",
    "print('Formula: ')    \n",
    "print(formula)    "
   ]
  },
  {
   "cell_type": "markdown",
   "id": "a1994c8b",
   "metadata": {},
   "source": [
    "#### Graphics of the model"
   ]
  },
  {
   "cell_type": "code",
   "execution_count": 14,
   "id": "1954a3b1",
   "metadata": {},
   "outputs": [
    {
     "data": {
      "image/png": "[encoded data removed]",
      "text/plain": [
       "<Figure size 648x432 with 1 Axes>"
      ]
     },
     "metadata": {
      "needs_background": "light"
     },
     "output_type": "display_data"
    }
   ],
   "source": [
    "def graphics(df,grado):\n",
    "    campos=df.columns.tolist()\n",
    "    x=np.array([])\n",
    "    y=np.array([])\n",
    "    for i in range(len(df)):\n",
    "        x=np.append(x,i)\n",
    "        y=np.append(y,df.iloc[i,1])\n",
    "    poli = PolynomialFeatures(degree=grado, include_bias=False)\n",
    "    x_poli = poli.fit_transform(x.reshape(-1,1))\n",
    "    modelo = LinearRegression()\n",
    "    modelo.fit(x_poli, y.reshape(-1,1))\n",
    "    y_pred=np.array([])\n",
    "    x_poli = poli.fit_transform(x.reshape(-1,1))\n",
    "    y_pred=np.append(y_pred,modelo.predict(x_poli))\n",
    "    plt.figure(figsize=(9,6))\n",
    "    plt.plot(x, y_pred, label=\"Modelo Polinomial\",color = \"red\")\n",
    "    plt.scatter(x,y,label='datos', color='blue')\n",
    "    plt.title('Predicción del valor de Cierre')\n",
    "    plt.xlabel('Día')\n",
    "    plt.ylabel(campos[1])\n",
    "    return\n",
    "graphics(dsTrainS,grado)"
   ]
  },
  {
   "cell_type": "markdown",
   "id": "db2e27bb",
   "metadata": {},
   "source": [
    "#### Evaluación del modelo"
   ]
  },
  {
   "cell_type": "code",
   "execution_count": 15,
   "id": "e66d60a9",
   "metadata": {
    "scrolled": true
   },
   "outputs": [
    {
     "name": "stdout",
     "output_type": "stream",
     "text": [
      "Evaluación:\n",
      "R2= 0.8090386115374281\n",
      "RMSE= 51.68491200826684\n"
     ]
    }
   ],
   "source": [
    "# Evaluación del modelo:\n",
    "print('Evaluación:')\n",
    "x=np.array([])\n",
    "y=np.array([])\n",
    "for i in range(len(dsTrain)):\n",
    "    x=np.append(x,i)\n",
    "    y=np.append(y,dsTrain.iloc[i,1])\n",
    "y_pred=np.array([])\n",
    "x_poli = poli.fit_transform(x.reshape(-1,1))\n",
    "y_pred=np.append(y_pred,modelo.predict(x_poli))\n",
    "xPlus=np.array([])\n",
    "yPlus=np.array([])\n",
    "for i in range(len(dsTest)):\n",
    "    xPlus=np.append(xPlus,i+len(dsTrain))\n",
    "    yPlus=np.append(yPlus,dsTest.iloc[i,1])\n",
    "y_predPlus=np.array([])\n",
    "x_poli = poli.fit_transform(xPlus.reshape(-1,1))\n",
    "y_predPlus=np.append(y_predPlus,modelo.predict(x_poli))\n",
    "# R2:\n",
    "r2 = r2_score(y.reshape(-1,1),y_pred.reshape(-1,1))\n",
    "print('R2=',r2)\n",
    "# RMSE:\n",
    "RMSE=sqrt(mean_squared_error(yPlus, y_predPlus))\n",
    "print('RMSE=',RMSE)"
   ]
  },
  {
   "cell_type": "markdown",
   "id": "62f7eee8",
   "metadata": {},
   "source": [
    "#### Graficar Predicciones"
   ]
  },
  {
   "cell_type": "code",
   "execution_count": 16,
   "id": "3ac1ee86",
   "metadata": {},
   "outputs": [
    {
     "data": {
      "image/png": "[encoded data removed]",
      "text/plain": [
       "<Figure size 648x432 with 1 Axes>"
      ]
     },
     "metadata": {
      "needs_background": "light"
     },
     "output_type": "display_data"
    }
   ],
   "source": [
    "def graficarPrediccion(dsTrain,dsTest,grado):\n",
    "    campos=dsTrain.columns.tolist()\n",
    "    x=np.array([])\n",
    "    y=np.array([])\n",
    "    xPlus=np.array([])\n",
    "    yPlus=np.array([])\n",
    "    for i in range(len(dsTrain)):\n",
    "        x=np.append(x,i)\n",
    "        y=np.append(y,dsTrain.iloc[i,1])\n",
    "    for i in range(len(dsTest)):\n",
    "        xPlus=np.append(xPlus,i+len(dsTrain))\n",
    "        yPlus=np.append(yPlus,dsTest.iloc[i,1])   \n",
    "    poli = PolynomialFeatures(degree=grado, include_bias=False)\n",
    "    x_poli = poli.fit_transform(x.reshape(-1,1))\n",
    "    modelo = LinearRegression()\n",
    "    modelo.fit(x_poli, y.reshape(-1,1))\n",
    "    y_pred=np.array([])\n",
    "    y_pred=np.append(y_pred,modelo.predict(x_poli))\n",
    "    x_poliPlus = poli.fit_transform(xPlus.reshape(-1,1))\n",
    "    y_predPlus=np.array([])\n",
    "    y_predPlus=np.append(y_predPlus,modelo.predict(x_poliPlus))\n",
    "    plt.figure(figsize=(9,6))\n",
    "    plt.plot(x, y_pred, label=\"Model: Simple-Polynomial\",color = \"red\")\n",
    "    plt.scatter(x,y,label='Train data', color='grey')\n",
    "    plt.scatter(xPlus, y_predPlus, label=\"Predicciones\",color = \"red\")\n",
    "    plt.scatter(xPlus,yPlus,label='Test data', color='blue')\n",
    "    plt.title(\"Tesla's Stoc: Close value prediction\")\n",
    "    plt.xlabel('Day')\n",
    "    plt.ylabel(campos[1])\n",
    "    return\n",
    "graficarPrediccion(dsTrainS,dsTest,grado)"
   ]
  },
  {
   "cell_type": "markdown",
   "id": "bab9265e",
   "metadata": {},
   "source": [
    "### 2.3. Multiple Linear Regression"
   ]
  },
  {
   "cell_type": "markdown",
   "id": "b9d7525c",
   "metadata": {},
   "source": [
    "Multiple Linear Regression Models are linear models that uses several variables. In this way, the contribution of other variables can be used."
   ]
  },
  {
   "cell_type": "markdown",
   "id": "3526e137",
   "metadata": {},
   "source": [
    "#### The Model"
   ]
  },
  {
   "cell_type": "code",
   "execution_count": 17,
   "id": "b9c97ae4",
   "metadata": {},
   "outputs": [
    {
     "name": "stdout",
     "output_type": "stream",
     "text": [
      "Fórmula: \n",
      "Close=-0.69*Open+0.84*High+0.85*Low+0.0*Volume+-0.75\n"
     ]
    }
   ],
   "source": [
    "Y=dsTrain['Close'].values\n",
    "x=(dsTrain.drop(['Date','Close'], axis=1))\n",
    "X=x.values\n",
    "camposX=x.columns.tolist()\n",
    "# Training\n",
    "modelo_RLM = LinearRegression() # instance de LinearRegression\n",
    "modelo_RLM.fit(X, Y)\n",
    "# Formula\n",
    "coefs=[]\n",
    "for i in range(len(camposX)):\n",
    "    a=round(modelo_RLM.coef_[i],2)\n",
    "    coefs.append(a)\n",
    "c=round(modelo_RLM.intercept_,2)\n",
    "formula='Close'+'='\n",
    "for i in range(len(camposX)):\n",
    "    formula=formula+str(coefs[i])+'*'+str(camposX[i])+'+'\n",
    "formula=formula+str(c)        \n",
    "print('Formula: ')\n",
    "print(formula)"
   ]
  },
  {
   "cell_type": "markdown",
   "id": "acfa36c1",
   "metadata": {},
   "source": [
    "#### Testing the model"
   ]
  },
  {
   "cell_type": "code",
   "execution_count": 19,
   "id": "875c2af1",
   "metadata": {},
   "outputs": [
    {
     "name": "stdout",
     "output_type": "stream",
     "text": [
      "Evaluación:\n",
      "R2= 0.9959497035353914\n",
      "RMSE= 10.649784122917774\n",
      "\n",
      "Valores_reales= [824.400024 858.969971 838.299988 795.349976 783.02002 ]\n",
      "Valores_predichos= [830.92269877 851.487741   819.60409567 804.42711211 776.96777516]\n"
     ]
    }
   ],
   "source": [
    "# Test:\n",
    "# R2\n",
    "print('Testing:')\n",
    "r2=modelo_RLM.score(X,Y)\n",
    "print('R2=',r2)\n",
    "# RMSE\n",
    "y_plus=dsTest['Close'].values\n",
    "x_plus=(dsTest.drop(['Date','Close'], axis=1))\n",
    "X_plus=x_plus.values\n",
    "y_pred=np.array([])\n",
    "y_pred=np.append(y_pred,modelo_RLM.predict(X_plus))                        \n",
    "RMSE=sqrt(mean_squared_error(y_plus, y_pred))\n",
    "print('RMSE=',RMSE)\n",
    "print('')\n",
    "print('Real_Values=',y_plus)\n",
    "print('Predicted_values=',y_pred)"
   ]
  },
  {
   "cell_type": "markdown",
   "id": "2f2a477e",
   "metadata": {},
   "source": [
    "## 3. Conclussion"
   ]
  },
  {
   "cell_type": "markdown",
   "id": "698b38ad",
   "metadata": {},
   "source": [
    "The model that shows better indicators of the prediction of the closing value of the stocks of Tesla is the Multiple Linear Regresion Model with incredible indicators:"
   ]
  },
  {
   "cell_type": "code",
   "execution_count": 120,
   "id": "34ab5ffa",
   "metadata": {},
   "outputs": [
    {
     "name": "stdout",
     "output_type": "stream",
     "text": [
      "R2= 0.9961229032012535  - RMSE= 11.424152523713419\n"
     ]
    }
   ],
   "source": [
    "print('R2=',r2,' - RMSE=',RMSE)"
   ]
  }
 ],
 "metadata": {
  "kernelspec": {
   "display_name": "Python 3 (ipykernel)",
   "language": "python",
   "name": "python3"
  },
  "language_info": {
   "codemirror_mode": {
    "name": "ipython",
    "version": 3
   },
   "file_extension": ".py",
   "mimetype": "text/x-python",
   "name": "python",
   "nbconvert_exporter": "python",
   "pygments_lexer": "ipython3",
   "version": "3.9.7"
  }
 },
 "nbformat": 4,
 "nbformat_minor": 5
}
